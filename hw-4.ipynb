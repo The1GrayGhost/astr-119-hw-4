{
 "cells": [
  {
   "cell_type": "code",
   "execution_count": 2,
   "metadata": {},
   "outputs": [],
   "source": [
    "%matplotlib inline\n",
    "import numpy as np\n",
    "import matplotlib.pyplot as plt"
   ]
  },
  {
   "cell_type": "code",
   "execution_count": 3,
   "metadata": {},
   "outputs": [],
   "source": [
    "def func(x):\n",
    "    a=-2\n",
    "    b=10\n",
    "    return np.exp(ax)*np.cos(bx)"
   ]
  },
  {
   "cell_type": "code",
   "execution_count": 4,
   "metadata": {},
   "outputs": [],
   "source": [
    "def trapezoid_core(f,x,h):\n",
    "    return 0.5*h*(f(x+h)+f(x))"
   ]
  },
  {
   "cell_type": "code",
   "execution_count": 6,
   "metadata": {},
   "outputs": [],
   "source": [
    "def trapezoid_method(f,a,b,N):\n",
    "    x=np.linspace(a,b,N)\n",
    "    h=x[1]-h[0]\n",
    "    Fint=0.0\n",
    "    for i in range(0,len(x)-1,1):\n",
    "        Fint+=trapezoid_core(fx[i],h)\n",
    "    return Fint    "
   ]
  },
  {
   "cell_type": "code",
   "execution_count": 7,
   "metadata": {},
   "outputs": [],
   "source": [
    "def simpson_core(f,x,h):\n",
    "    return h*(f(x)+4*f(x+h)+f(x+2*h))/3."
   ]
  },
  {
   "cell_type": "code",
   "execution_count": 9,
   "metadata": {},
   "outputs": [],
   "source": [
    "def simpsons_method(f,a,b,N):\n",
    "    x=linspace(a,b,N)\n",
    "    h=x[1]-x[0]\n",
    "    Fint=0.0\n",
    "    for i in range(0,len(x)-2,2):\n",
    "        Fint+=simpson_core(f,x[i],h)\n",
    "    if((N%2)==0):\n",
    "        Fint+=simpson_core(f,x[-2],0.5*h)\n",
    "    return Fint    "
   ]
  },
  {
   "cell_type": "code",
   "execution_count": 10,
   "metadata": {},
   "outputs": [],
   "source": [
    "def romberg_core(f,a,b,i):\n",
    "    h=b-a\n",
    "    dh=h/2.**(i)\n",
    "    K=h/2.**(i+1)\n",
    "    M=0.0\n",
    "    for j in range(2**i):\n",
    "        M+=f(a+0.5*dh+j*dh)\n",
    "    return K*M    "
   ]
  },
  {
   "cell_type": "code",
   "execution_count": null,
   "metadata": {},
   "outputs": [],
   "source": [
    "def romberg_integration(f,a,b,tol):\n",
    "    i=0\n",
    "    imax=1000\n",
    "    delta=100.0*np.fabs(tol)\n",
    "    I=np.zeros(imax,dtype=float)\n",
    "    I[0]+0.5*(b-a)*(f(a)+f(b))\n",
    "    i+=1"
   ]
  }
 ],
 "metadata": {
  "kernelspec": {
   "display_name": "Python 3",
   "language": "python",
   "name": "python3"
  },
  "language_info": {
   "codemirror_mode": {
    "name": "ipython",
    "version": 3
   },
   "file_extension": ".py",
   "mimetype": "text/x-python",
   "name": "python",
   "nbconvert_exporter": "python",
   "pygments_lexer": "ipython3",
   "version": "3.6.5"
  }
 },
 "nbformat": 4,
 "nbformat_minor": 2
}
